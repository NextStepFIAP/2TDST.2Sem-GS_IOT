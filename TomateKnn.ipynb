{
 "cells": [
  {
   "cell_type": "code",
   "execution_count": 1,
   "id": "e431c97f",
   "metadata": {
    "id": "e431c97f",
    "scrolled": true
   },
   "outputs": [],
   "source": [
    "import pandas as pd\n",
    "import numpy as np\n",
    "import matplotlib.pyplot as plt\n",
    "import seaborn as sns\n",
    "\n",
    "from sklearn import preprocessing, model_selection, neighbors\n",
    "from sklearn.preprocessing import StandardScaler\n",
    "\n",
    "from mlxtend.plotting import plot_decision_regions\n",
    "\n",
    "df = pd.read_csv(\"dataset_tomate.csv\", sep=\",\")\n",
    "df = df.drop(['id','MCARI1_d28','MCARI1_d01', 'MCARI1_d04','MCARI1_d08'], axis=1)\n",
    "\n"
   ]
  },
  {
   "cell_type": "code",
   "execution_count": 2,
   "id": "d4d501af",
   "metadata": {
    "colab": {
     "base_uri": "https://localhost:8080/",
     "height": 163
    },
    "executionInfo": {
     "elapsed": 22,
     "status": "error",
     "timestamp": 1637346841153,
     "user": {
      "displayName": "Celso Lorensatto",
      "photoUrl": "https://lh3.googleusercontent.com/a-/AOh14GgVpyJpSV_SSMpL5wVkbYRdrKmD08pHepxdmfmfbz8=s64",
      "userId": "16796901876839721139"
     },
     "user_tz": 180
    },
    "id": "d4d501af",
    "outputId": "05bc4826-5b8e-46f1-d086-306049556b1f",
    "scrolled": true
   },
   "outputs": [],
   "source": [
    "df_dummy = pd.get_dummies(df)"
   ]
  },
  {
   "cell_type": "code",
   "execution_count": 3,
   "id": "fcb7d82a",
   "metadata": {
    "id": "fcb7d82a"
   },
   "outputs": [
    {
     "name": "stderr",
     "output_type": "stream",
     "text": [
      "/tmp/ipykernel_28506/1666681472.py:1: FutureWarning: In a future version of pandas all arguments of DataFrame.drop except for the argument 'labels' will be keyword-only\n",
      "  X = np.array(df_dummy.drop(['Classe'], 1))\n"
     ]
    }
   ],
   "source": [
    "X = np.array(df_dummy.drop(['Classe'], 1))\n",
    "y = np.array(df_dummy['Classe'])"
   ]
  },
  {
   "cell_type": "code",
   "execution_count": 4,
   "id": "eec874f7",
   "metadata": {
    "id": "eec874f7"
   },
   "outputs": [],
   "source": [
    "X_treino, X_teste, y_treino, y_teste = model_selection.train_test_split(X, y, test_size = 0.2, random_state=0)"
   ]
  },
  {
   "cell_type": "code",
   "execution_count": 5,
   "id": "1a024d9a",
   "metadata": {
    "id": "1a024d9a"
   },
   "outputs": [],
   "source": [
    "sc_X = StandardScaler()\n",
    "X_treino = sc_X.fit_transform(X_treino)\n",
    "X_teste = sc_X.transform(X_teste)"
   ]
  },
  {
   "cell_type": "code",
   "execution_count": 6,
   "id": "b4f03283",
   "metadata": {
    "id": "b4f03283"
   },
   "outputs": [],
   "source": [
    "clf = neighbors.KNeighborsClassifier(n_neighbors=11, metric='euclidean')"
   ]
  },
  {
   "cell_type": "code",
   "execution_count": 7,
   "id": "4aa00616",
   "metadata": {
    "id": "4aa00616",
    "outputId": "e03ba83d-a49c-472e-8b50-2313b2306afb"
   },
   "outputs": [
    {
     "data": {
      "text/plain": [
       "KNeighborsClassifier(metric='euclidean', n_neighbors=11)"
      ]
     },
     "execution_count": 7,
     "metadata": {},
     "output_type": "execute_result"
    }
   ],
   "source": [
    "clf.fit(X_treino, y_treino)"
   ]
  },
  {
   "cell_type": "code",
   "execution_count": 8,
   "id": "72fa5f46",
   "metadata": {
    "id": "72fa5f46",
    "outputId": "9fe600fa-4f24-4ea5-f5d9-af4d902d5d6b"
   },
   "outputs": [
    {
     "name": "stdout",
     "output_type": "stream",
     "text": [
      "0.9259259259259259\n"
     ]
    }
   ],
   "source": [
    "acerto = clf.score(X_teste,y_teste)\n",
    "print(acerto)"
   ]
  },
  {
   "cell_type": "code",
   "execution_count": 10,
   "id": "89c0e1ea",
   "metadata": {
    "id": "89c0e1ea",
    "outputId": "aa372a57-8fa1-4f33-afa2-42d835d74f2e"
   },
   "outputs": [
    {
     "name": "stdout",
     "output_type": "stream",
     "text": [
      "[0]\n"
     ]
    }
   ],
   "source": [
    "tomate = np.array([0,0,0,0,0,1.3,0.8,1.7,0.6,0.4,0.3,0.1,1.5,0.7,1.2,0.6,0.2])\n",
    "tomate = tomate.reshape(1,-1)\n",
    "tomate = sc_X.transform(tomate)\n",
    "predicao = clf.predict(tomate)\n",
    "print(predicao)"
   ]
  }
 ],
 "metadata": {
  "colab": {
   "name": "TomateKnn.ipynb",
   "provenance": []
  },
  "kernelspec": {
   "display_name": "Python 3 (ipykernel)",
   "language": "python",
   "name": "python3"
  },
  "language_info": {
   "codemirror_mode": {
    "name": "ipython",
    "version": 3
   },
   "file_extension": ".py",
   "mimetype": "text/x-python",
   "name": "python",
   "nbconvert_exporter": "python",
   "pygments_lexer": "ipython3",
   "version": "3.9.7"
  }
 },
 "nbformat": 4,
 "nbformat_minor": 5
}
